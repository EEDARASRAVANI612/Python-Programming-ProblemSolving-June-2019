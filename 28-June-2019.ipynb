{
 "cells": [
  {
   "cell_type": "markdown",
   "metadata": {},
   "source": [
    "### Day Objectives \n",
    "- Maps\n",
    "- Lambda\n",
    "- Filter\n",
    "- Use cases- File/Data Encryption"
   ]
  },
  {
   "cell_type": "markdown",
   "metadata": {},
   "source": [
    "### Map\n",
    "\n",
    "Mapping - Entity with Function\n",
    "\n",
    "f : x^2 + 3*x + 9\n",
    "\n",
    "x : [1,10]\n",
    "\n",
    "f(1) -> 13\n",
    "f(2) -> 19\n",
    "f(3) -> .\n",
    "\n",
    "y=f(x)\n",
    "\n",
    " f(x)=x**2\n",
    "x       y\n",
    "1       1\n",
    "2       4\n",
    "3       9\n",
    "4       16\n"
   ]
  },
  {
   "cell_type": "code",
   "execution_count": 13,
   "metadata": {},
   "outputs": [
    {
     "data": {
      "text/plain": [
       "2"
      ]
     },
     "execution_count": 13,
     "metadata": {},
     "output_type": "execute_result"
    }
   ],
   "source": [
    "def powerN(a,n):\n",
    "    #return a**n\n",
    "    r=1\n",
    "    for i in range(0,n):\n",
    "        r*=a\n",
    "    return r\n",
    "def recursivepowerN(a,n):\n",
    "    if n==1:\n",
    "        return 1\n",
    "    else:\n",
    "        return a*\n",
    "\n",
    "powerN(2,1)\n",
    "recursivepowerN(a,n)"
   ]
  },
  {
   "cell_type": "code",
   "execution_count": 16,
   "metadata": {
    "scrolled": true
   },
   "outputs": [
    {
     "data": {
      "text/plain": [
       "{1, 8, 27, 64, 125, 216}"
      ]
     },
     "execution_count": 16,
     "metadata": {},
     "output_type": "execute_result"
    }
   ],
   "source": [
    "def cube(n):\n",
    "    return n ** 3\n",
    "li=[1,2,3,4,5,6]\n",
    "#print((map(cube,li))) Prints map object reference\n",
    "set(map(cube,li))"
   ]
  },
  {
   "cell_type": "code",
   "execution_count": 17,
   "metadata": {},
   "outputs": [
    {
     "data": {
      "text/plain": [
       "{1860867}"
      ]
     },
     "execution_count": 17,
     "metadata": {},
     "output_type": "execute_result"
    }
   ],
   "source": [
    "set(map(cube,[123]))"
   ]
  },
  {
   "cell_type": "code",
   "execution_count": 21,
   "metadata": {},
   "outputs": [
    {
     "data": {
      "text/plain": [
       "[3, 4, 16, 25]"
      ]
     },
     "execution_count": 21,
     "metadata": {},
     "output_type": "execute_result"
    }
   ],
   "source": [
    "l=['16','25','3','4']\n",
    "list(map(int,l))\n",
    "sorted(list(map(int,l)))"
   ]
  },
  {
   "cell_type": "code",
   "execution_count": 19,
   "metadata": {},
   "outputs": [
    {
     "data": {
      "text/plain": [
       "['1', '2', '3', '4', '5', '6']"
      ]
     },
     "execution_count": 19,
     "metadata": {},
     "output_type": "execute_result"
    }
   ],
   "source": [
    "list(map(str,li))"
   ]
  },
  {
   "cell_type": "code",
   "execution_count": 23,
   "metadata": {},
   "outputs": [
    {
     "data": {
      "text/plain": [
       "[3.0, 4.0, 16.0, 25.0]"
      ]
     },
     "execution_count": 23,
     "metadata": {},
     "output_type": "execute_result"
    }
   ],
   "source": [
    "sorted(list(map(float,l)))"
   ]
  },
  {
   "cell_type": "markdown",
   "metadata": {},
   "source": [
    "### Filter\n",
    "\n",
    "Used to check boolean values\n",
    "- True\n",
    "- False\n",
    "- 0 - False\n",
    "- other than 0 it is True(1,2,...)"
   ]
  },
  {
   "cell_type": "code",
   "execution_count": 27,
   "metadata": {},
   "outputs": [
    {
     "data": {
      "text/plain": [
       "[1, 2, 3]"
      ]
     },
     "execution_count": 27,
     "metadata": {},
     "output_type": "execute_result"
    }
   ],
   "source": [
    "li=[1,2,'a','b','c',3]\n",
    "def isDigit(c):\n",
    "    c=str(c)\n",
    "    if c.isdigit():\n",
    "        return True\n",
    "    return False\n",
    "isDigit('b')\n",
    "\n",
    "list(filter(isDigit,li))"
   ]
  },
  {
   "cell_type": "code",
   "execution_count": 56,
   "metadata": {},
   "outputs": [
    {
     "ename": "SyntaxError",
     "evalue": "invalid syntax (<ipython-input-56-04963c14efd7>, line 6)",
     "output_type": "error",
     "traceback": [
      "\u001b[1;36m  File \u001b[1;32m\"<ipython-input-56-04963c14efd7>\"\u001b[1;36m, line \u001b[1;32m6\u001b[0m\n\u001b[1;33m    [cube(i) filtermath()]\u001b[0m\n\u001b[1;37m                      ^\u001b[0m\n\u001b[1;31mSyntaxError\u001b[0m\u001b[1;31m:\u001b[0m invalid syntax\n"
     ]
    }
   ],
   "source": [
    "def cube(n):\n",
    "    return n ** 3\n",
    "li=[1,2,3,4,5,6]\n",
    "\n",
    "filtermath=[int(i) for i in li]\n",
    "[cube(i) filtermath()]"
   ]
  },
  {
   "cell_type": "code",
   "execution_count": 50,
   "metadata": {},
   "outputs": [
    {
     "data": {
      "text/plain": [
       "[2, 3, 5, 7, 11, 13, 17, 19]"
      ]
     },
     "execution_count": 50,
     "metadata": {},
     "output_type": "execute_result"
    }
   ],
   "source": [
    "# Identify all primes in a given range\n",
    "l=[1,2,3,4,5,6,7,8,9,10,11,12,13,14,15]\n",
    "def checkprime(n):\n",
    "    if n<2 :\n",
    "        return False\n",
    "    if n==2:\n",
    "        return True\n",
    "    for i in range(2,n):\n",
    "        if(n%i==0):\n",
    "            return False\n",
    "    return True\n",
    "lb,ub=1,20\n",
    "list(filter(checkprime,range(1,20)))\n"
   ]
  },
  {
   "cell_type": "code",
   "execution_count": 51,
   "metadata": {},
   "outputs": [
    {
     "name": "stdout",
     "output_type": "stream",
     "text": [
      "[2, 3, 5, 7, 11, 13, 17, 19]\n",
      "[2, 3, 5, 7, 11, 13, 17, 19]\n"
     ]
    }
   ],
   "source": [
    "primeList=list(filter(checkprime,range(1,20)))\n",
    "\n",
    "# Map fails because of condition checking\n",
    "\n",
    "primeList2=[i for i in range(lb,ub+1) if checkprime(i)]\n",
    "print(primeList)\n",
    "print(primeList2)"
   ]
  },
  {
   "cell_type": "code",
   "execution_count": 46,
   "metadata": {},
   "outputs": [
    {
     "data": {
      "text/plain": [
       "[2000, 2004, 2008, 2012, 2016, 2020]"
      ]
     },
     "execution_count": 46,
     "metadata": {},
     "output_type": "execute_result"
    }
   ],
   "source": [
    "l=[1,2,3,4,5,6,7,8,9,10,11,12,13,14,15]\n",
    "def leapyear(n):\n",
    "    if (n%400==0 or (n%100!=0 and n%4==0)):\n",
    "        return True\n",
    "    return False\n",
    "\n",
    "list(filter(leapyear,range(2000,2021)))"
   ]
  },
  {
   "cell_type": "markdown",
   "metadata": {},
   "source": [
    "### Lambda\n",
    "\n",
    "Anonymous Functions\n",
    "\n",
    "Can be embedded into List Comprehension, Maps, Filters"
   ]
  },
  {
   "cell_type": "code",
   "execution_count": 74,
   "metadata": {},
   "outputs": [
    {
     "data": {
      "text/plain": [
       "[1, 8, 27, 64, 125]"
      ]
     },
     "execution_count": 74,
     "metadata": {},
     "output_type": "execute_result"
    }
   ],
   "source": [
    "a= lambda x: x**3\n",
    "#a(3)\n",
    "list(map(lambda x:x**3,[1,2,3,4,5]))"
   ]
  },
  {
   "cell_type": "code",
   "execution_count": 75,
   "metadata": {},
   "outputs": [
    {
     "data": {
      "text/plain": [
       "[1, 3, 5]"
      ]
     },
     "execution_count": 75,
     "metadata": {},
     "output_type": "execute_result"
    }
   ],
   "source": [
    "a= lambda x: x%2==0\n",
    "#a(3)\n",
    "list(filter(lambda x:x%2!=0,[1,2,3,4,5]))"
   ]
  },
  {
   "cell_type": "code",
   "execution_count": 12,
   "metadata": {},
   "outputs": [
    {
     "name": "stdout",
     "output_type": "stream",
     "text": [
      "[16.5, 28.0, 11.0, 18.5, 17.0, 22.5, 23.5, 32.5, 15.5, 16.0]\n",
      "[11.0] [16.5, 28.0, 18.5, 17.0, 22.5, 23.5, 32.5, 15.5, 16.0]\n"
     ]
    }
   ],
   "source": [
    "from random import randint\n",
    "\n",
    "internal1 = [randint(0,25) for i in range(10)]\n",
    "internal2 = [randint(0,25) for i in range(10)]\n",
    "internal3 = [randint(0,25) for i in range(10)]\n",
    "\n",
    "averageInternal = list(map(lambda x,y,z:(x+y+z)/2,internal1,internal2,internal3))\n",
    "print(averageInternal)\n",
    "\n",
    "failedmarks=list(filter(lambda x: x<15,list(map(lambda x,y,z:(x+y+z)/2,internal1,internal2,internal3))))\n",
    "failedmarks=list(filter(lambda x: x<15,averageInternal))\n",
    "passedmarks=list(filter(lambda x:x>=15,averageInternal))\n",
    "print(failedmarks,passedmarks)"
   ]
  },
  {
   "cell_type": "code",
   "execution_count": null,
   "metadata": {},
   "outputs": [],
   "source": []
  },
  {
   "cell_type": "markdown",
   "metadata": {},
   "source": [
    "### Applying Functional Programming to the Marks Analysis Application"
   ]
  },
  {
   "cell_type": "code",
   "execution_count": 14,
   "metadata": {},
   "outputs": [],
   "source": [
    "# Generate Marks data\n",
    "def generateMarks(n,lb,ub):\n",
    "    filename='Datafiles/marks.txt'\n",
    "    with open(filename,'w') as f:\n",
    "        for i in range(n):\n",
    "            marks = randint(lb,ub)\n",
    "            f.write(str(marks)+'\\n')\n",
    "    return\n",
    "generateMarks(300,0,100)"
   ]
  },
  {
   "cell_type": "code",
   "execution_count": 25,
   "metadata": {},
   "outputs": [
    {
     "name": "stdout",
     "output_type": "stream",
     "text": [
      "[42, 4, 83, 33, 5, 8, 94, 45, 20, 40, 8, 33, 54, 69, 34, 53, 15, 8, 69, 81, 64, 72, 59, 89, 46, 47, 27, 32, 13, 80, 81, 41, 74, 16, 26, 79, 19, 100, 97, 33, 40, 100, 86, 75, 3, 43, 73, 21, 62, 25, 79, 36, 93, 78, 3, 17, 11, 63, 81, 75, 49, 11, 24, 82, 43, 73, 17, 25, 83, 83, 39, 87, 27, 71, 63, 50, 25, 71, 49, 84, 28, 34, 5, 26, 5, 81, 38, 87, 7, 81, 94, 34, 96, 93, 74, 77, 80, 31, 46, 39, 15, 82, 0, 34, 52, 78, 97, 36, 28, 87, 52, 41, 76, 15, 28, 11, 2, 70, 67, 44, 78, 32, 88, 13, 3, 68, 85, 15, 98, 31, 79, 16, 0, 79, 90, 97, 87, 33, 35, 98, 95, 36, 62, 64, 50, 33, 51, 34, 48, 89, 81, 86, 8, 72, 28, 94, 79, 81, 36, 86, 17, 11, 3, 45, 74, 50, 3, 46, 74, 81, 21, 48, 40, 60, 39, 40, 43, 6, 80, 3, 42, 13, 12, 27, 21, 76, 17, 92, 50, 9, 10, 76, 79, 96, 80, 17, 13, 17, 89, 31, 93, 16, 31, 5, 52, 18, 71, 70, 12, 27, 48, 96, 70, 63, 40, 68, 76, 20, 29, 99, 35, 42, 40, 29, 99, 34, 97, 13, 4, 28, 9, 72, 80, 100, 57, 29, 59, 13, 91, 14, 22, 49, 38, 12, 54, 36, 53, 16, 100, 76, 41, 99, 70, 98, 58, 1, 85, 100, 28, 58, 49, 1, 96, 25, 67, 69, 49, 90, 55, 84, 79, 9, 24, 63, 87, 22, 36, 67, 4, 100, 0, 20, 36, 71, 10, 95, 2, 38, 71, 13, 92, 65, 42, 80, 19, 91, 86, 85, 38, 78]\n"
     ]
    },
    {
     "data": {
      "text/plain": [
       "50"
      ]
     },
     "execution_count": 25,
     "metadata": {},
     "output_type": "execute_result"
    }
   ],
   "source": [
    "# Marks Analysis\n",
    "# Class Average,%Passed,Failed and Distinction\n",
    "# Frequency of Hightest and Lowest\n",
    "import re\n",
    "def classAverage():\n",
    "    filename='Datafiles/marks.txt'   \n",
    "    with open(filename,'r') as f:\n",
    "        filedata=f.read().split()\n",
    "       #markslist=re.split('\\n',filedata)\n",
    "    markslist=[]\n",
    "    markslist=list(map(int,filedata))\n",
    "    print(markslist)\n",
    "    return sum(markslist)//len(markslist)\n",
    "classAverage()  "
   ]
  },
  {
   "cell_type": "code",
   "execution_count": 35,
   "metadata": {},
   "outputs": [
    {
     "data": {
      "text/plain": [
       "50"
      ]
     },
     "execution_count": 35,
     "metadata": {},
     "output_type": "execute_result"
    }
   ],
   "source": [
    "import re\n",
    "def readMarksList(filepath): \n",
    "    with open(filename,'r') as f:\n",
    "        filedata=f.read().split()\n",
    "    return list(map(int,filedata))\n",
    "\n",
    "def classAverage():\n",
    "    markslist=readMarksList(filepath)\n",
    "    return sum(markslist)//len(markslist)\n",
    "\n",
    "filepath='Datafiles/marks.txt'  \n",
    "classAverage()   "
   ]
  },
  {
   "cell_type": "code",
   "execution_count": 67,
   "metadata": {},
   "outputs": [
    {
     "data": {
      "text/plain": [
       "41.66666666666667"
      ]
     },
     "execution_count": 67,
     "metadata": {},
     "output_type": "execute_result"
    }
   ],
   "source": [
    "def percentageOfFailed(filepath):\n",
    "    markslist=readMarksList(filepath)\n",
    "    failedcount=len(list(filter(lambda mark: mark<40,markslist)))\n",
    "    \n",
    "    return (failedcount/len(markslist)*100)\n",
    "percentageOfFailed(filepath)"
   ]
  },
  {
   "cell_type": "code",
   "execution_count": 70,
   "metadata": {},
   "outputs": [
    {
     "data": {
      "text/plain": [
       "58.33333333333333"
      ]
     },
     "execution_count": 70,
     "metadata": {},
     "output_type": "execute_result"
    }
   ],
   "source": [
    "def percentageOfPassed(filepath):\n",
    "    return 100-percentageOfFailed(filepath)\n",
    "percentageOfPassed(filepath)"
   ]
  },
  {
   "cell_type": "code",
   "execution_count": 71,
   "metadata": {},
   "outputs": [
    {
     "data": {
      "text/plain": [
       "58.333333333333336"
      ]
     },
     "execution_count": 71,
     "metadata": {},
     "output_type": "execute_result"
    }
   ],
   "source": [
    "def percentageOfPassed(filepath):\n",
    "    markslist=readMarksList(filepath)\n",
    "    passedcount=len(list(filter(lambda mark,: mark>=40,markslist)))\n",
    "    \n",
    "    return (passedcount/len(markslist)*100)\n",
    "percentageOfPassed(filepath)"
   ]
  },
  {
   "cell_type": "code",
   "execution_count": 72,
   "metadata": {},
   "outputs": [
    {
     "data": {
      "text/plain": [
       "23.666666666666668"
      ]
     },
     "execution_count": 72,
     "metadata": {},
     "output_type": "execute_result"
    }
   ],
   "source": [
    "def percentageOfDistinction(filepath):\n",
    "    markslist=readMarksList(filepath)\n",
    "    distinctioncount=len(list(filter(lambda mark,: mark>=80,markslist)))\n",
    "    \n",
    "    return (distinctioncount/len(markslist)*100)\n",
    "percentageOfDistinction(filepath)"
   ]
  },
  {
   "cell_type": "code",
   "execution_count": 73,
   "metadata": {},
   "outputs": [
    {
     "data": {
      "text/plain": [
       "6"
      ]
     },
     "execution_count": 73,
     "metadata": {},
     "output_type": "execute_result"
    }
   ],
   "source": [
    "def HighestMarkFrequency(filepath):\n",
    "    markslist=readMarksList(filepath)\n",
    "    return markslist.count(max(markslist))\n",
    "HighestMarkFrequency(filepath)"
   ]
  },
  {
   "cell_type": "code",
   "execution_count": 74,
   "metadata": {},
   "outputs": [
    {
     "data": {
      "text/plain": [
       "3"
      ]
     },
     "execution_count": 74,
     "metadata": {},
     "output_type": "execute_result"
    }
   ],
   "source": [
    "def LowestMarkFrequency(filepath):\n",
    "    markslist=readMarksList(filepath)\n",
    "    return markslist.count(min(markslist))\n",
    "LowestMarkFrequency(filepath)"
   ]
  },
  {
   "cell_type": "code",
   "execution_count": null,
   "metadata": {},
   "outputs": [],
   "source": []
  },
  {
   "cell_type": "markdown",
   "metadata": {},
   "source": [
    "### Data Encryption\n",
    "\n",
    "Key - Mapping of characters with replaced \n",
    "\n",
    "0 -> 4 \n",
    "1 -> 5\n",
    "2 -> 6\n",
    "3 -> 7\n",
    "4 -> 8\n",
    "5 -> 9\n",
    "6 -> 0\n",
    "7 -> 1\n",
    "8 -> 2\n",
    "9 -> 3"
   ]
  },
  {
   "cell_type": "code",
   "execution_count": 75,
   "metadata": {},
   "outputs": [],
   "source": [
    "# Function to generate key for encryption\n",
    "keypath='Datafiles/key.txt'\n",
    "def generateKey(keypath):\n",
    "    with open(keypath,'w') as f:\n",
    "        for i in range(10):\n",
    "            if i<6:\n",
    "                f.write(str(i)+' '+str(i+4)+'\\n')\n",
    "            else:\n",
    "                f.write(str(i)+' '+str(i-6)+'\\n')\n",
    "generateKey(keypath)"
   ]
  },
  {
   "cell_type": "code",
   "execution_count": 78,
   "metadata": {},
   "outputs": [
    {
     "data": {
      "text/plain": [
       "{'0': '4',\n",
       " '1': '5',\n",
       " '2': '6',\n",
       " '3': '7',\n",
       " '4': '8',\n",
       " '5': '9',\n",
       " '6': '0',\n",
       " '7': '1',\n",
       " '8': '2',\n",
       " '9': '3'}"
      ]
     },
     "execution_count": 78,
     "metadata": {},
     "output_type": "execute_result"
    }
   ],
   "source": [
    "# Function to encrypt a data file\n",
    "\n",
    "keyfile='Datafiles/key.txt'\n",
    "def dictionaryKeyFile(keyfile):\n",
    "    key={}\n",
    "    with open(keyfile,'r') as f:\n",
    "        for line in f:\n",
    "            line=line.split()\n",
    "            key[line[0]]=line[1]\n",
    "    return key\n",
    "dictionaryKeyFile(keyfile)\n",
    "#def encryptMarksData(datafile,keyfile):\n",
    "    # constrct a dictionary for key data:\n",
    "    "
   ]
  },
  {
   "cell_type": "code",
   "execution_count": null,
   "metadata": {},
   "outputs": [],
   "source": []
  },
  {
   "cell_type": "code",
   "execution_count": null,
   "metadata": {},
   "outputs": [],
   "source": []
  },
  {
   "cell_type": "code",
   "execution_count": null,
   "metadata": {},
   "outputs": [],
   "source": []
  },
  {
   "cell_type": "code",
   "execution_count": null,
   "metadata": {},
   "outputs": [],
   "source": []
  },
  {
   "cell_type": "code",
   "execution_count": null,
   "metadata": {},
   "outputs": [],
   "source": []
  }
 ],
 "metadata": {
  "kernelspec": {
   "display_name": "Python 3",
   "language": "python",
   "name": "python3"
  },
  "language_info": {
   "codemirror_mode": {
    "name": "ipython",
    "version": 3
   },
   "file_extension": ".py",
   "mimetype": "text/x-python",
   "name": "python",
   "nbconvert_exporter": "python",
   "pygments_lexer": "ipython3",
   "version": "3.7.3"
  }
 },
 "nbformat": 4,
 "nbformat_minor": 2
}
