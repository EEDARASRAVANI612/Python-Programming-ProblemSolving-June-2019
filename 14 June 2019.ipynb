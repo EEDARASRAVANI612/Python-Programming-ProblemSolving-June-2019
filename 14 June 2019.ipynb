{
 "cells": [
  {
   "cell_type": "markdown",
   "metadata": {},
   "source": [
    "### Problem Solving and Programing in Python\n",
    "\n",
    "#### 14 June 2019\n",
    "#### Day Objectives\n",
    "- Python Data Structures\n",
    "    - Lists\n",
    "    - Tuples\n",
    "    - Dictionaries\n",
    "- Basic Problem set on Data Structures\n",
    "- Advanced Problem Set\n",
    "- Packages and Modules in Python"
   ]
  },
  {
   "cell_type": "code",
   "execution_count": null,
   "metadata": {},
   "outputs": [],
   "source": []
  },
  {
   "cell_type": "markdown",
   "metadata": {},
   "source": [
    "## Python Data Structures\n",
    "\n",
    "\n",
    "### Lists"
   ]
  },
  {
   "cell_type": "code",
   "execution_count": 66,
   "metadata": {},
   "outputs": [
    {
     "data": {
      "text/plain": [
       "456"
      ]
     },
     "execution_count": 66,
     "metadata": {},
     "output_type": "execute_result"
    }
   ],
   "source": [
    "li=[123,978,654]\n",
    "\n",
    "li# Access the entire list\n",
    "\n",
    "li[1] # Access an element with index in a list \n",
    "\n",
    "li[1:] #Acess all element from second element to last element\n",
    "\n",
    "li=li[::-1] # reversing list elements\n",
    "li=li[::-1] \n",
    "\n",
    "li\n",
    "\n",
    "li[::-1] \n",
    "\n",
    "li[::2] # Acess even index elements\n",
    "\n",
    "li[1::2]\n",
    "\n",
    "# Lists can be aceessed, manipulated in two different ways\n",
    "    # Direct Rferencing - [index]\n",
    "    # Indirect Referencing - through functions\n",
    "    \n",
    "li.append(345) # Adding elements to end of the list\n",
    "\n",
    "li.insert(1,234) # Adding an element at a particular index\n",
    "\n",
    "li.sort() # Sort elements in ascending order\n",
    "li\n",
    "\n",
    "li.pop() # Remove the last element in a list\n",
    "li\n",
    "\n",
    "li.pop(1) #Remove an element at a particular element\n",
    "li\n",
    "\n",
    "li2=[234,456,789]\n",
    "\n",
    "li.extend(li2) #Merge list 2 into list 1\n",
    "li\n",
    "\n",
    "sum(li) # Sum of all elements in a list\n",
    "max(li) # Maximum elememt in a list\n",
    "len(li) # Number of elements in a list\n",
    "\n",
    "sum(li)/len(li) # Average of list elements \n",
    "\n",
    "sum(li[1::2])/len(li[1::2]) # Average of all alternate elements|\n",
    "li[-2]\n",
    "\n",
    "\n"
   ]
  },
  {
   "cell_type": "code",
   "execution_count": 78,
   "metadata": {},
   "outputs": [
    {
     "data": {
      "text/plain": [
       "44"
      ]
     },
     "execution_count": 78,
     "metadata": {},
     "output_type": "execute_result"
    }
   ],
   "source": [
    "# Function to identify the second largest element\n",
    "\n",
    "l=[6,43,2,76,89,44,21]\n",
    "def secondLargest(l):\n",
    "    l.sort()\n",
    "    return l[-2]\n",
    "\n",
    "# Function that returns the nth largest \n",
    "\n",
    "def genericLargest(l,n):\n",
    "    l.sort()\n",
    "    return l[-n]\n",
    "secondLargest(l)\n",
    "genericLargest(l,3)"
   ]
  },
  {
   "cell_type": "code",
   "execution_count": 120,
   "metadata": {},
   "outputs": [
    {
     "data": {
      "text/plain": [
       "6"
      ]
     },
     "execution_count": 120,
     "metadata": {},
     "output_type": "execute_result"
    }
   ],
   "source": [
    "#Function to search for data in a list\n",
    "#search for the index of the key in the list and return the in\n",
    "\n",
    "def linearSearch(l,key):\n",
    "    for index in range(0,len(l)):\n",
    "        if(key==l[index]):\n",
    "            return index\n",
    "    return -1\n",
    "\n",
    "def linearsearch2(l,key):\n",
    "    for element in l:\n",
    "        if element==key:\n",
    "            return l.index(element)\n",
    "    return -1\n",
    "def linearsearch3(l,key):\n",
    "    if key in l:\n",
    "        return l.index(key)\n",
    "    return -1\n",
    "\n",
    "linearSearch(l,6)\n",
    "linearsearch2(l,6)\n",
    "linearsearch3(l,89)"
   ]
  },
  {
   "cell_type": "code",
   "execution_count": 126,
   "metadata": {},
   "outputs": [
    {
     "data": {
      "text/plain": [
       "2"
      ]
     },
     "execution_count": 126,
     "metadata": {},
     "output_type": "execute_result"
    }
   ],
   "source": [
    "#Function to count the occarance of the character in a string\n",
    "#\"Python Programming\", m->2\n",
    "\n",
    "s=\"python Programming\"\n",
    "def countOccurances(s,c):\n",
    "    count=0\n",
    "    for ch in s:\n",
    "        if ch==c:\n",
    "            count+=1\n",
    "    return count\n",
    "        \n",
    "def countOccurances1(s,c):\n",
    "    return s.count(c)\n",
    "\n",
    "countOccurances(s,'m')\n",
    "countOccurances1(s,'m')"
   ]
  },
  {
   "cell_type": "code",
   "execution_count": 128,
   "metadata": {},
   "outputs": [
    {
     "data": {
      "text/plain": [
       "0"
      ]
     },
     "execution_count": 128,
     "metadata": {},
     "output_type": "execute_result"
    }
   ],
   "source": [
    "#Function to find the number of occurances of a substring\n",
    "#\"abcabcddcba\",\"ab\" ->2\n",
    "\n",
    "def countOccurance(s,w):\n",
    "    count=0\n",
    "    for word in s:\n",
    "        if word==w:\n",
    "            count+=1\n",
    "    return count\n",
    "countOccurance(\"abcabcddcba\",'ab')"
   ]
  },
  {
   "cell_type": "code",
   "execution_count": null,
   "metadata": {},
   "outputs": [],
   "source": []
  }
 ],
 "metadata": {
  "kernelspec": {
   "display_name": "Python 3",
   "language": "python",
   "name": "python3"
  },
  "language_info": {
   "codemirror_mode": {
    "name": "ipython",
    "version": 3
   },
   "file_extension": ".py",
   "mimetype": "text/x-python",
   "name": "python",
   "nbconvert_exporter": "python",
   "pygments_lexer": "ipython3",
   "version": "3.7.3"
  }
 },
 "nbformat": 4,
 "nbformat_minor": 2
}
