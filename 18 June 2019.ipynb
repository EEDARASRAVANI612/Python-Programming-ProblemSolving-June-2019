{
 "cells": [
  {
   "cell_type": "markdown",
   "metadata": {},
   "source": [
    "### Play with numbers"
   ]
  },
  {
   "cell_type": "code",
   "execution_count": null,
   "metadata": {},
   "outputs": [],
   "source": [
    "# cumulative Sum\n",
    "#sum[0]= #first element\n",
    "#sum[1]= #first + second\n",
    "\n",
    "#i j -> sum[j]-sum[i-1]// j-i+1\n",
    "\n",
    "n=input().split()\n",
    "\n",
    "n[0],n[1]=int(n[0]),int(n[1])\n",
    "\n",
    "#read array elements\n",
    "a=input().split()\n",
    "\n",
    "sum=[] #initializing cumalative sum array\n",
    "\n",
    "# cumulative Sum\n",
    "for i in range(0,n[0]):\n",
    "    if i==0:\n",
    "        sum.append(int(a[i]))\n",
    "    else:\n",
    "        sum.append(int(sum[i-1])+int(a[i]))\n",
    "del a\n",
    "\n",
    "q=[]\n",
    "#Read each query and calculate the average\n",
    "for i in range(0,n[1]):\n",
    "    inq=input().split()\n",
    "    i=int(inq[0])\n",
    "    j=int(inq[1])\n",
    "    if i>1:\n",
    "        print((sum[j-1]-sum[i-2])//(j-i+1))\n",
    "    else:\n",
    "        print(sum[j-1]//(j-i+1))\n",
    "        "
   ]
  },
  {
   "cell_type": "markdown",
   "metadata": {},
   "source": [
    "### Primefactors\n"
   ]
  },
  {
   "cell_type": "code",
   "execution_count": 4,
   "metadata": {},
   "outputs": [
    {
     "name": "stdout",
     "output_type": "stream",
     "text": [
      "2\n",
      "3\n",
      "6\n",
      "YES\n",
      "7\n",
      "NO\n",
      "8\n",
      "NO\n"
     ]
    }
   ],
   "source": [
    "#Function to determine if a number is special number\n",
    "\n",
    "#Function to check if number is prime\n",
    "\n",
    "#Function to determine number of Prime factors \n",
    "\n",
    "def isSpecialNumber(p,t,n):\n",
    "    if numberOfPrimeFactors(n)>=p:\n",
    "        print(\"YES\")\n",
    "    else:\n",
    "        print(\"NO\")\n",
    "        \n",
    "def isprime(n):\n",
    "    flag=1\n",
    "    if n==2:\n",
    "        return True\n",
    "    for j in range(2,n//2+1):\n",
    "        if n%j==0:\n",
    "            flag=0\n",
    "            return False\n",
    "    if flag==1:\n",
    "        return True\n",
    "\n",
    "\n",
    "def numberOfPrimeFactors(n):\n",
    "    if isprime(n):\n",
    "        return 1\n",
    "    count=0\n",
    "    for i in range(2,n//2+1):\n",
    "        if(isprime(i) and n%i==0):\n",
    "            count+=1\n",
    "    return count\n",
    "p=int(input())\n",
    "t=int(input())\n",
    "for i in range(1,t+1):\n",
    "    n=int(input())\n",
    "    isSpecialNumber(p,t,n)\n"
   ]
  },
  {
   "cell_type": "markdown",
   "metadata": {},
   "source": [
    "### Highest Remainder\n",
    "\n",
    "n\n",
    "n%i=Highest\n",
    "\n",
    "9\n",
    "8 1\n",
    "7 2\n",
    "6 3\n",
    "5 4\n",
    "4 1\n",
    "3 0\n",
    "2 1\n",
    "\n",
    "    "
   ]
  },
  {
   "cell_type": "code",
   "execution_count": 22,
   "metadata": {},
   "outputs": [
    {
     "name": "stdout",
     "output_type": "stream",
     "text": [
      "5\n",
      "3\n"
     ]
    }
   ],
   "source": [
    "def highestRemainder(n): \n",
    "    hr=0\n",
    "    for i in range(n-1,n//2,-1):\n",
    "        r=n%i\n",
    "        if r>hr:\n",
    "            hr=r\n",
    "            v=i\n",
    "    print(v)\n",
    "    return\n",
    "n=int(input())   \n",
    "highestRemainder(n)        "
   ]
  },
  {
   "cell_type": "code",
   "execution_count": null,
   "metadata": {},
   "outputs": [],
   "source": []
  },
  {
   "cell_type": "code",
   "execution_count": null,
   "metadata": {},
   "outputs": [],
   "source": []
  },
  {
   "cell_type": "markdown",
   "metadata": {},
   "source": [
    "### Tuples\n",
    "- t1=()\n",
    "- li=[]\n",
    "Difference between Lists and Tuples\n",
    "\n",
    "lists are mutable-can be changed/modified\n",
    "- Used to Access , Modify, Add\n",
    "\n",
    "Tuples are immutable - cannot be changed\n",
    "- Used to access data only\n",
    "- All Slicing work"
   ]
  },
  {
   "cell_type": "code",
   "execution_count": 28,
   "metadata": {},
   "outputs": [
    {
     "data": {
      "text/plain": [
       "(3, 9, 5)"
      ]
     },
     "execution_count": 28,
     "metadata": {},
     "output_type": "execute_result"
    }
   ],
   "source": [
    "t1=(1,7,3,9,5)\n",
    "\n",
    "t1[3] #Accessing the fourth element\n",
    "\n",
    "t1[len(t1)//2:] #Accessing all elements from middle to last"
   ]
  },
  {
   "cell_type": "code",
   "execution_count": 29,
   "metadata": {},
   "outputs": [
    {
     "data": {
      "text/plain": [
       "tuple"
      ]
     },
     "execution_count": 29,
     "metadata": {},
     "output_type": "execute_result"
    }
   ],
   "source": [
    "type(t1)"
   ]
  },
  {
   "cell_type": "code",
   "execution_count": null,
   "metadata": {},
   "outputs": [],
   "source": []
  },
  {
   "cell_type": "markdown",
   "metadata": {},
   "source": [
    "## Dictionaries\n",
    "\n",
    "- It works on the concept of set unique data\n",
    "\n",
    "keys,values\n",
    "\n",
    "key is the unique Identifier for a value\n",
    "\n",
    "value is data that can be accessed with key"
   ]
  },
  {
   "cell_type": "code",
   "execution_count": 41,
   "metadata": {},
   "outputs": [
    {
     "data": {
      "text/plain": [
       "True"
      ]
     },
     "execution_count": 41,
     "metadata": {},
     "output_type": "execute_result"
    }
   ],
   "source": [
    "d1={\"k1\":\"value1\",\"k2\":\"value2\"}\n",
    "\n",
    "d1[\"k2\"] #Accessing the value with key \"k2\"\n",
    "d1.keys() #returns list of all keys\n",
    "d1.values() #returns list of all values\n",
    "d1.items() #returns list of tuples of keys and values\n",
    "d1[\"k3\"]=\"value3\" #Adding an element to d1 \n",
    "\n",
    "d1[\"k3\"]=\"value4\" #updating an element\n",
    "\n",
    "d1.pop(\"k3\") #Removing an element\n",
    "\"k1\" in d1"
   ]
  },
  {
   "cell_type": "markdown",
   "metadata": {},
   "source": [
    "### Contacts Application\n",
    "\n",
    "- Add Contact\n",
    "- Search for contact\n",
    "- List all contacts\n",
    "    - name1:phone1\n",
    "    - name2:phone2\n",
    "- Modify contact\n",
    "- Remove contact\n",
    "- Import contacts\n"
   ]
  },
  {
   "cell_type": "code",
   "execution_count": 3,
   "metadata": {},
   "outputs": [
    {
     "name": "stdout",
     "output_type": "stream",
     "text": [
      "Contact sravani added\n"
     ]
    }
   ],
   "source": [
    "contacts={}\n",
    "def addContact(name,phone):\n",
    "    #verify that the conatact doesnot already exist\n",
    "    if name not in contacts:\n",
    "        contacts[name]=phone\n",
    "        print(\"Contact %s added\" % name)\n",
    "    else:\n",
    "        print(\"Contact %s already exists\"% name)\n",
    "    return\n",
    "addContact(\"sravani\",\"8328097262\")       "
   ]
  },
  {
   "cell_type": "code",
   "execution_count": 4,
   "metadata": {},
   "outputs": [
    {
     "name": "stdout",
     "output_type": "stream",
     "text": [
      "sravani : 8328097262\n"
     ]
    }
   ],
   "source": [
    "def searchContact(name):\n",
    "    if name in contacts:\n",
    "        print(name,\":\", contacts[name])\n",
    "    else:\n",
    "        print(\"%s does not exist \" % name)\n",
    "searchContact(\"sravani\")"
   ]
  },
  {
   "cell_type": "code",
   "execution_count": 5,
   "metadata": {},
   "outputs": [
    {
     "name": "stdout",
     "output_type": "stream",
     "text": [
      "sravani : 8328097262\n"
     ]
    }
   ],
   "source": [
    "def allContacts(contacts):\n",
    "     for name in contacts:\n",
    "        print(name,\":\", contacts[name])\n",
    "allContacts(contacts)"
   ]
  },
  {
   "cell_type": "code",
   "execution_count": 6,
   "metadata": {},
   "outputs": [
    {
     "name": "stdout",
     "output_type": "stream",
     "text": [
      "2 contacts added successfully\n"
     ]
    }
   ],
   "source": [
    "#New contacts given as dictionary\n",
    "#Merge new conatcts with exsting contacts\n",
    "def importContacts(newContacts):\n",
    "    contacts.update(newContacts)\n",
    "    print(len(newContacts.keys()),\"contacts added successfully\")\n",
    "    return\n",
    "newContacts={\"Daddy\":9967374793,\"Mom\":9537834234}\n",
    "\n",
    "importContacts(newContacts)"
   ]
  },
  {
   "cell_type": "code",
   "execution_count": 7,
   "metadata": {},
   "outputs": [
    {
     "data": {
      "text/plain": [
       "{'sravani': '8328097262', 'Daddy': 9967374793, 'Mom': 9537834234}"
      ]
     },
     "execution_count": 7,
     "metadata": {},
     "output_type": "execute_result"
    }
   ],
   "source": [
    "contacts"
   ]
  },
  {
   "cell_type": "code",
   "execution_count": null,
   "metadata": {},
   "outputs": [],
   "source": [
    "# Modify the contacts\n",
    "def modifyContacts(name):\n",
    "    for name in contacts:\n",
    "        name=conatacts[]\n",
    "        "
   ]
  },
  {
   "cell_type": "code",
   "execution_count": null,
   "metadata": {},
   "outputs": [],
   "source": []
  },
  {
   "cell_type": "code",
   "execution_count": null,
   "metadata": {},
   "outputs": [],
   "source": []
  },
  {
   "cell_type": "markdown",
   "metadata": {},
   "source": [
    "### Packages and Modules\n",
    "**Package** -> Collection of Modules(Python File.py) and subpackages\n",
    "**Sub Package** ->\n",
    "\n",
    "**Module**-> A single python file containing functions\n",
    "\n",
    "package -> Subpackages -> Modules -> Functions"
   ]
  },
  {
   "cell_type": "code",
   "execution_count": null,
   "metadata": {},
   "outputs": [],
   "source": []
  },
  {
   "cell_type": "code",
   "execution_count": 14,
   "metadata": {},
   "outputs": [
    {
     "data": {
      "text/plain": [
       "3.141592653589793"
      ]
     },
     "execution_count": 14,
     "metadata": {},
     "output_type": "execute_result"
    }
   ],
   "source": [
    "from math import floor,pi\n",
    "\n",
    "floor(123.787)\n",
    "pi"
   ]
  },
  {
   "cell_type": "code",
   "execution_count": 16,
   "metadata": {},
   "outputs": [
    {
     "data": {
      "text/plain": [
       "3.141592653589793"
      ]
     },
     "execution_count": 16,
     "metadata": {},
     "output_type": "execute_result"
    }
   ],
   "source": [
    "from math import floor as f,pi as p\n",
    "f(1234.67)\n",
    "p"
   ]
  },
  {
   "cell_type": "code",
   "execution_count": 23,
   "metadata": {},
   "outputs": [
    {
     "data": {
      "text/plain": [
       "3.141592653589793"
      ]
     },
     "execution_count": 23,
     "metadata": {},
     "output_type": "execute_result"
    }
   ],
   "source": [
    "import math\n",
    "\n",
    "math.floor(123.4567)\n",
    "math.ceil(123.4567)\n",
    "math.pi"
   ]
  },
  {
   "cell_type": "code",
   "execution_count": 29,
   "metadata": {},
   "outputs": [
    {
     "name": "stdout",
     "output_type": "stream",
     "text": [
      "47 57 61 36 40 7 31 65 71 11 "
     ]
    }
   ],
   "source": [
    "#Function to generate N random numbers\n",
    "\n",
    "import random\n",
    "\n",
    "def generateNRandomNumbers(n,lb,ub):\n",
    "    for i in range(0,n):\n",
    "        print(random.randint(lb,ub), end=\" \")\n",
    "        \n",
    "generateNRandomNumbers(10,0,100)"
   ]
  },
  {
   "cell_type": "code",
   "execution_count": 1,
   "metadata": {},
   "outputs": [],
   "source": []
  },
  {
   "cell_type": "code",
   "execution_count": null,
   "metadata": {},
   "outputs": [],
   "source": []
  },
  {
   "cell_type": "code",
   "execution_count": null,
   "metadata": {},
   "outputs": [],
   "source": []
  },
  {
   "cell_type": "code",
   "execution_count": null,
   "metadata": {},
   "outputs": [],
   "source": []
  },
  {
   "cell_type": "code",
   "execution_count": null,
   "metadata": {},
   "outputs": [],
   "source": []
  }
 ],
 "metadata": {
  "kernelspec": {
   "display_name": "Python 3",
   "language": "python",
   "name": "python3"
  },
  "language_info": {
   "codemirror_mode": {
    "name": "ipython",
    "version": 3
   },
   "file_extension": ".py",
   "mimetype": "text/x-python",
   "name": "python",
   "nbconvert_exporter": "python",
   "pygments_lexer": "ipython3",
   "version": "3.7.3"
  }
 },
 "nbformat": 4,
 "nbformat_minor": 2
}
