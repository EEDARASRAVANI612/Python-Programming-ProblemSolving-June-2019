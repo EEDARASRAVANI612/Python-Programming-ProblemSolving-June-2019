{
 "cells": [
  {
   "cell_type": "markdown",
   "metadata": {},
   "source": [
    "# Problem Solving and Programming\n",
    "\n",
    "#### Date 12 June 2019\n",
    "\n",
    "#### Day Objectives\n",
    "- String Slicing\n",
    "- Functions in Python\n",
    "- Basic Problems related to conditional statement using functions\n",
    "- Iteration in Python\n",
    "- Python Data Structures-Lists,Tuples and Dictionaries\n",
    "- Basic Operation on data structures\n",
    "- Applying Data Structures to solve problems "
   ]
  },
  {
   "cell_type": "code",
   "execution_count": null,
   "metadata": {},
   "outputs": [],
   "source": []
  },
  {
   "cell_type": "markdown",
   "metadata": {},
   "source": [
    "## String Slicing"
   ]
  },
  {
   "cell_type": "code",
   "execution_count": 11,
   "metadata": {},
   "outputs": [
    {
     "data": {
      "text/plain": [
       "'va'"
      ]
     },
     "execution_count": 11,
     "metadata": {},
     "output_type": "execute_result"
    }
   ],
   "source": [
    "s=\"esravani\"\n",
    "\n",
    "s[0] # Accessing the first character\n",
    "s[len(s)-1] # Accessing the last character\n",
    "\n",
    "s[-1] # Accessing the last character\n",
    " \n",
    "s[-2] # Accessing the last second character\n",
    "\n",
    "s[0:2] # Accessing the first 2 charaters\n",
    "\n",
    "s[-3:] # Accessing the last 3 characters\n",
    "\n",
    "s[4:] # Accessing all characters 5th character to end of string\n",
    "\n",
    "s[1:-1] # Accessing all characters except 1st and last character to end of string\n",
    "\n",
    "s[len(s)//2] #Accessing the middle character \n",
    "\n",
    "s[-1::-1] #Reverse of a string\n",
    "\n",
    "s[-1:-3:-1] #Accessing last two characters in \n",
    "\n",
    "s[len(s)//2 :len(s)//2-2:-1]#Reverse the middle two characters in an even length string\n",
    "\n",
    "s[::-2] #Accessing alternate characters in a string in reverse order.. \"python\" -> \"nhy\"\n",
    "\n",
    "s[::2] #Accessing alternate characters in a string\n"
   ]
  },
  {
   "cell_type": "code",
   "execution_count": null,
   "metadata": {},
   "outputs": [],
   "source": []
  },
  {
   "cell_type": "markdown",
   "metadata": {},
   "source": [
    "## Functions"
   ]
  },
  {
   "cell_type": "code",
   "execution_count": 14,
   "metadata": {},
   "outputs": [
    {
     "data": {
      "text/plain": [
       "'inavars'"
      ]
     },
     "execution_count": 14,
     "metadata": {},
     "output_type": "execute_result"
    }
   ],
   "source": [
    "\n",
    "def reverseString(s):\n",
    "    return s[::-1]\n",
    "reverseString(\"sravani\")\n"
   ]
  },
  {
   "cell_type": "code",
   "execution_count": 16,
   "metadata": {},
   "outputs": [
    {
     "data": {
      "text/plain": [
       "True"
      ]
     },
     "execution_count": 16,
     "metadata": {},
     "output_type": "execute_result"
    }
   ],
   "source": [
    "#Functions to check if a string is a palindrome\n",
    "\n",
    "def palindrome(s):\n",
    "    if s==s[::-1]:\n",
    "        return True\n",
    "    else:\n",
    "        return False\n",
    "palindrome(\"madam\")\n",
    "    "
   ]
  },
  {
   "cell_type": "code",
   "execution_count": 17,
   "metadata": {},
   "outputs": [
    {
     "data": {
      "text/plain": [
       "True"
      ]
     },
     "execution_count": 17,
     "metadata": {},
     "output_type": "execute_result"
    }
   ],
   "source": [
    "# Function to check if a given year is leap year\n",
    "\n",
    "def isLeapyear(n):\n",
    "    if(n%400==0 or n%100!=0 and n%4==0):\n",
    "        return True\n",
    "    else:\n",
    "        return False\n",
    "isLeapyear(2020)"
   ]
  },
  {
   "cell_type": "code",
   "execution_count": 28,
   "metadata": {},
   "outputs": [
    {
     "data": {
      "text/plain": [
       "5"
      ]
     },
     "execution_count": 28,
     "metadata": {},
     "output_type": "execute_result"
    }
   ],
   "source": [
    "# count the digits in given number\n",
    "\n",
    "def countDigits(n):\n",
    "    return len(str(n))\n",
    "\n",
    "countDigits(12345)\n"
   ]
  },
  {
   "cell_type": "code",
   "execution_count": 29,
   "metadata": {
    "scrolled": true
   },
   "outputs": [
    {
     "data": {
      "text/plain": [
       "8"
      ]
     },
     "execution_count": 29,
     "metadata": {},
     "output_type": "execute_result"
    }
   ],
   "source": [
    "#Function to identify the greatest of 4 numbers\n",
    "\n",
    "def greatest(n1,n2,n3,n4):\n",
    "    if(n1>=n2 and n1>=n3 and n1>=n4):\n",
    "        return n1\n",
    "    elif(n2>=n3 and n2>=n4):\n",
    "        return n2\n",
    "    elif(n3>=n4):\n",
    "        return n3\n",
    "    else:\n",
    "        return n4\n",
    "greatest(5,8,2,3)\n",
    "    "
   ]
  },
  {
   "cell_type": "code",
   "execution_count": null,
   "metadata": {},
   "outputs": [],
   "source": []
  },
  {
   "cell_type": "markdown",
   "metadata": {},
   "source": [
    "### Iteration \n",
    "\n",
    "- for\n",
    "\n",
    "- while\n",
    "\n",
    "#### For Loop in Python\n",
    "\n",
    ".[lb,ub]\n",
    "\n",
    "for number in range(lb,ub+1)"
   ]
  },
  {
   "cell_type": "code",
   "execution_count": 20,
   "metadata": {},
   "outputs": [
    {
     "name": "stdout",
     "output_type": "stream",
     "text": [
      "500 502 504 506 508 510 512 514 516 518 520 522 524 "
     ]
    }
   ],
   "source": [
    "#Function to print the alternate values in given range\n",
    "#\n",
    "#\n",
    "#\n",
    "#\n",
    "\n",
    "def alternateValues(start,end):\n",
    "    for i in range(start,end+1,2):\n",
    "        print(i,end=\" \")\n",
    "alternateValues(500,525)\n",
    "        "
   ]
  },
  {
   "cell_type": "code",
   "execution_count": 15,
   "metadata": {},
   "outputs": [
    {
     "name": "stdout",
     "output_type": "stream",
     "text": [
      "525 524 523 522 521 520 519 518 517 516 515 514 513 512 511 510 509 508 507 506 505 504 503 502 501 500 "
     ]
    }
   ],
   "source": [
    "#Function to print reverse of given range\n",
    "\n",
    "def reverseRange(start,end):\n",
    "    for i in range(end,start-1,-1):\n",
    "        print(i,end=\" \")\n",
    "reverseRange(1,10)"
   ]
  },
  {
   "cell_type": "code",
   "execution_count": 23,
   "metadata": {},
   "outputs": [
    {
     "name": "stdout",
     "output_type": "stream",
     "text": [
      "9 7 5 3 1 "
     ]
    }
   ],
   "source": [
    "#Function to findout the average of odd numbers in the given range\n",
    "\n",
    "def altoddRange(start,end):\n",
    "    for i in range(end,start-1,-1):\n",
    "        if(i%2!=0):\n",
    "            print(i,end=\" \") \n",
    "altoddRange(1,10)"
   ]
  },
  {
   "cell_type": "code",
   "execution_count": 27,
   "metadata": {},
   "outputs": [
    {
     "name": "stdout",
     "output_type": "stream",
     "text": [
      "55\n"
     ]
    }
   ],
   "source": [
    "# Function to print the sum of the numbers in a given range\n",
    "\n",
    "def sumNumsRange(l,u):\n",
    "    s=0\n",
    "    for i in range(l,u+1):\n",
    "        s+=i\n",
    "    print(s)\n",
    "sumNumsRange(1,10)\n",
    "    "
   ]
  },
  {
   "cell_type": "code",
   "execution_count": null,
   "metadata": {},
   "outputs": [],
   "source": [
    "#Function"
   ]
  },
  {
   "cell_type": "code",
   "execution_count": 5,
   "metadata": {},
   "outputs": [
    {
     "data": {
      "text/plain": [
       "True"
      ]
     },
     "execution_count": 5,
     "metadata": {},
     "output_type": "execute_result"
    }
   ],
   "source": [
    "#Function to print if leapyear\n",
    " \n",
    "def isLeapyear(year):\n",
    "    if(year%400 or (year%100!=0 and year%4==0)):\n",
    "        return True\n",
    "    else:\n",
    "        return False\n",
    "isLeapyear(2020)"
   ]
  },
  {
   "cell_type": "code",
   "execution_count": 7,
   "metadata": {},
   "outputs": [
    {
     "name": "stdout",
     "output_type": "stream",
     "text": [
      "1920 1924 1928 1932 1936 1940 1944 1948 1952 1956 1960 1964 1968 1972 1976 1980 1984 1988 1992 1996 2000 2004 2008 2012 2016 "
     ]
    }
   ],
   "source": [
    "#Function to generate all leap years in a given time period\n",
    "#[2000,2020] ->2000 2004 2008 2012 2016 2020\n",
    "def isLeapyear(year):\n",
    "    if(year%400==0 or (year%100!=0 and year%4==0)):\n",
    "        return True\n",
    "    return False\n",
    "\n",
    "def generateLeapyears(startyear,endyear):\n",
    "    for year in range(startyear,endyear+1):\n",
    "        if isLeapyear(year):\n",
    "            print(year,end=\" \")\n",
    "    return\n",
    "generateLeapyears(1919,2019)"
   ]
  },
  {
   "cell_type": "code",
   "execution_count": 9,
   "metadata": {},
   "outputs": [
    {
     "data": {
      "text/plain": [
       "1461"
      ]
     },
     "execution_count": 9,
     "metadata": {},
     "output_type": "execute_result"
    }
   ],
   "source": [
    "#calculate a number of a days in a given time peroid using leapyear logic\n",
    "#For every year in the given time period, if the year is leap year add 366 otherwise add 365 days \n",
    "def numberOfDays(startyear,endyear):\n",
    "    s=0\n",
    "    for year in range(startyear,endyear+1):\n",
    "        if isLeapyear(year):\n",
    "            s+=366\n",
    "        else:\n",
    "            s+=365\n",
    "    return s\n",
    "numberOfDays(1920,1923)"
   ]
  },
  {
   "cell_type": "code",
   "execution_count": null,
   "metadata": {},
   "outputs": [],
   "source": [
    "#Function to calculate number of hours for a given period\n",
    "def numHours(startmonth,startyear,endmonth,endyear):\n",
    "    for hours in range(startmonth,startyear,endmonth,endyear)"
   ]
  },
  {
   "cell_type": "code",
   "execution_count": 13,
   "metadata": {
    "scrolled": true
   },
   "outputs": [
    {
     "name": "stdout",
     "output_type": "stream",
     "text": [
      "1 2 3 4 5 6 7 8 9 10 11 12 13 14 15 16 17 18 19 20 21 22 23 24 25 26 27 28 29 30 "
     ]
    }
   ],
   "source": [
    "#Function to print n natural numbers\n",
    "\n",
    "def NNaturalNumbers(n):\n",
    "    for counter in range(1,n+1):\n",
    "        print(counter,end=\" \")\n",
    "    return\n",
    "NNaturalNumbers(30)\n",
    "    "
   ]
  },
  {
   "cell_type": "code",
   "execution_count": 35,
   "metadata": {},
   "outputs": [
    {
     "name": "stdout",
     "output_type": "stream",
     "text": [
      "1 2 3 4 5 6 7 8 9 "
     ]
    }
   ],
   "source": [
    "#Function to print n natural numbers using while loop\n",
    "\n",
    "def NaturalNumbers(n):\n",
    "    counter=1\n",
    "    while counter<=n:\n",
    "        print(counter,end=\" \")\n",
    "        counter=counter+1\n",
    "    return\n",
    "NaturalNumbers(9)\n",
    "        "
   ]
  },
  {
   "cell_type": "code",
   "execution_count": 31,
   "metadata": {
    "scrolled": true
   },
   "outputs": [
    {
     "name": "stdout",
     "output_type": "stream",
     "text": [
      "6 12 18 24 30 36 42 48 54 60 66 72 78 84 90 96 102 108 114 120 126 132 138 144 150 156 162 168 174 180 186 192 198 204 210 216 222 228 234 240 246 252 258 264 270 276 282 288 294 300 306 312 318 324 330 336 342 348 354 360 366 372 378 384 390 396 402 408 414 420 426 432 438 444 450 456 462 468 474 480 486 492 498 504 510 516 522 528 534 540 546 552 558 564 570 576 582 588 594 600 606 612 618 624 630 636 642 648 654 660 666 672 678 684 690 696 702 708 714 720 726 732 738 744 750 756 762 768 774 780 786 792 798 804 810 816 822 828 834 840 846 852 858 864 870 876 882 888 894 900 906 912 918 924 930 936 942 948 954 960 966 972 978 984 990 996 "
     ]
    }
   ],
   "source": [
    "#Function to print all numbers divisible by 6\n",
    "#and not a factor of 100 in a given range(lb,ub) inclusive\n",
    "\n",
    "def factor(l,u):\n",
    "    for i in range(l,u+1):\n",
    "        if(i%6==0 and 100%i!=0):\n",
    "            print(i,end=\" \") \n",
    "factor(1,1000)"
   ]
  },
  {
   "cell_type": "code",
   "execution_count": 77,
   "metadata": {},
   "outputs": [
    {
     "name": "stdout",
     "output_type": "stream",
     "text": [
      "16\n"
     ]
    }
   ],
   "source": [
    "#Function to generate the sum of factors for a given number\n",
    "# 12 ->1 2 3 4 6 12\n",
    "\n",
    "def sumFactors(n):\n",
    "    s=0\n",
    "    for i in range(1,n):\n",
    "        if(n%i==0):\n",
    "            s+=i\n",
    "    print(s)\n",
    "sumFactors(12)"
   ]
  },
  {
   "cell_type": "code",
   "execution_count": 73,
   "metadata": {},
   "outputs": [
    {
     "name": "stdout",
     "output_type": "stream",
     "text": [
      "360.0\n"
     ]
    }
   ],
   "source": [
    "#Function to find the average of cubes of all even numbers\n",
    "#in a given range(lb,ub) inclusive\n",
    "\n",
    "def avgOfCubesOfAllEvenNumbers(l,u):\n",
    "    avg=0\n",
    "    count=0\n",
    "    for i in range(l,u+1):\n",
    "        if(i%2==0):\n",
    "            c=i**3\n",
    "            count=count+1\n",
    "            avg=avg+c\n",
    "    print(avg/count)\n",
    "avgOfCubesOfAllEvenNumbers(1,10)"
   ]
  },
  {
   "cell_type": "code",
   "execution_count": null,
   "metadata": {},
   "outputs": [],
   "source": []
  },
  {
   "cell_type": "code",
   "execution_count": 7,
   "metadata": {},
   "outputs": [
    {
     "data": {
      "text/plain": [
       "120"
      ]
     },
     "execution_count": 7,
     "metadata": {},
     "output_type": "execute_result"
    }
   ],
   "source": [
    "#Function to calculate the factorial of a given number\n",
    "\n",
    "def factorial(n):\n",
    "    mul=1\n",
    "    for i in range(1,n+1):\n",
    "        mul=mul*i\n",
    "    return mul\n",
    "factorial(5)"
   ]
  },
  {
   "cell_type": "code",
   "execution_count": 9,
   "metadata": {},
   "outputs": [
    {
     "data": {
      "text/plain": [
       "8.25"
      ]
     },
     "execution_count": 9,
     "metadata": {},
     "output_type": "execute_result"
    }
   ],
   "source": [
    "#Function to calculate average of all factorials numbers in a given range\n",
    "\n",
    "def avgFactorial(l,u):\n",
    "    s=0\n",
    "    for x in range(l,u+1):\n",
    "        s=s+factorial(x)\n",
    "    return s/u\n",
    "avgFactorial(1,4)"
   ]
  },
  {
   "cell_type": "code",
   "execution_count": null,
   "metadata": {},
   "outputs": [],
   "source": []
  },
  {
   "cell_type": "code",
   "execution_count": 6,
   "metadata": {},
   "outputs": [
    {
     "data": {
      "text/plain": [
       "False"
      ]
     },
     "execution_count": 6,
     "metadata": {},
     "output_type": "execute_result"
    }
   ],
   "source": [
    "#Function to check if a given number is Prime\n",
    "\n",
    "def isPrime(n):\n",
    "    count=0\n",
    "    for i in range(1,n+1):\n",
    "        if(n%i==0):\n",
    "            count=count+1\n",
    "    if(count==2):\n",
    "        return True\n",
    "    return False\n",
    "isPrime(4)        "
   ]
  },
  {
   "cell_type": "code",
   "execution_count": 7,
   "metadata": {},
   "outputs": [
    {
     "data": {
      "text/plain": [
       "12.9"
      ]
     },
     "execution_count": 7,
     "metadata": {},
     "output_type": "execute_result"
    }
   ],
   "source": [
    "#Function to calculate the average first N Prime numbers\n",
    "\n",
    "def avgNPrimes(n):\n",
    "    primeCount = 0\n",
    "    sum = 0\n",
    "    seqCount = 2\n",
    "    while(primeCount < n):\n",
    "        if isPrime(seqCount):\n",
    "            primeCount += 1\n",
    "            sum += seqCount\n",
    "            #print(seqCount)\n",
    "        seqCount += 1\n",
    "    return sum/n\n",
    "\n",
    "avgNPrimes(10)     "
   ]
  },
  {
   "cell_type": "code",
   "execution_count": null,
   "metadata": {},
   "outputs": [],
   "source": []
  },
  {
   "cell_type": "code",
   "execution_count": 3,
   "metadata": {},
   "outputs": [
    {
     "data": {
      "text/plain": [
       "True"
      ]
     },
     "execution_count": 3,
     "metadata": {},
     "output_type": "execute_result"
    }
   ],
   "source": [
    "# perfect number\n",
    "def perfect(n):\n",
    "    s=0\n",
    "    for i in range(1,n):\n",
    "        if(n%i==0):\n",
    "            s+=i\n",
    "    if(n==s):\n",
    "        return True\n",
    "    else:\n",
    "        return False\n",
    "perfect(6)"
   ]
  },
  {
   "cell_type": "code",
   "execution_count": 4,
   "metadata": {},
   "outputs": [
    {
     "name": "stdout",
     "output_type": "stream",
     "text": [
      "496\n",
      "8128\n"
     ]
    }
   ],
   "source": [
    "#Function to generate all Perfect numbers in a given range    \n",
    "def print_perfect_nums(start, end):\n",
    "    for i in range(start, end + 1):\n",
    "        s=0\n",
    "        for x in range(1,i):\n",
    "            if(i % x == 0):\n",
    "                s+=x\n",
    "        if(s==i):\n",
    "            print(i)\n",
    "print_perfect_nums(100, 10000)"
   ]
  },
  {
   "cell_type": "code",
   "execution_count": 5,
   "metadata": {},
   "outputs": [
    {
     "name": "stdout",
     "output_type": "stream",
     "text": [
      "6\n",
      "28\n",
      "496\n",
      "8128\n"
     ]
    }
   ],
   "source": [
    "def perfectrange(l,u):\n",
    "    for i in range(l,u+1):\n",
    "        if perfect(i):\n",
    "            print(i)\n",
    "perfectrange(1,10000)"
   ]
  },
  {
   "cell_type": "code",
   "execution_count": 4,
   "metadata": {},
   "outputs": [
    {
     "name": "stdout",
     "output_type": "stream",
     "text": [
      "6\n",
      "28\n",
      "496\n",
      "8128\n"
     ]
    }
   ],
   "source": [
    "def Nperfect(n):\n",
    "    count=1\n",
    "    while(n!=0):\n",
    "        if perfect(count):\n",
    "            print(count)\n",
    "            n-=1\n",
    "        count+=1\n",
    "Nperfect(4)"
   ]
  },
  {
   "cell_type": "code",
   "execution_count": null,
   "metadata": {},
   "outputs": [],
   "source": []
  },
  {
   "cell_type": "code",
   "execution_count": 7,
   "metadata": {},
   "outputs": [
    {
     "name": "stdout",
     "output_type": "stream",
     "text": [
      "True\n"
     ]
    }
   ],
   "source": [
    "#Function to print armstrong number or not\n",
    "def armstrong(n):\n",
    "    s=0\n",
    "    temp=n\n",
    "    while(temp!=0):\n",
    "        r=temp\n",
    "        r=r%10\n",
    "        s+=r**3\n",
    "        temp=temp//10\n",
    "    if(s==n):\n",
    "        print(True)\n",
    "    else:\n",
    "        print(False)\n",
    "armstrong(153)"
   ]
  },
  {
   "cell_type": "code",
   "execution_count": null,
   "metadata": {},
   "outputs": [
    {
     "name": "stdout",
     "output_type": "stream",
     "text": [
      "1\n",
      "153\n",
      "371\n",
      "407\n"
     ]
    }
   ],
   "source": [
    "#Function to generate n odd armstrong numbers\n",
    "def armstrong(n):\n",
    "    s=0\n",
    "    temp=n\n",
    "    while(temp!=0):\n",
    "        r=temp\n",
    "        r=r%10\n",
    "        s+=r**3\n",
    "        temp=temp//10\n",
    "    if(s==n):\n",
    "        return True\n",
    "    return False\n",
    "def nArmstrongNum(n):\n",
    "    count=1\n",
    "    while (n!=0):\n",
    "        if armstrong(count):\n",
    "            if(count%2!=0):\n",
    "                print(count)\n",
    "                n-=1\n",
    "        count+=1\n",
    "nArmstrongNum(5)   "
   ]
  },
  {
   "cell_type": "code",
   "execution_count": null,
   "metadata": {},
   "outputs": [],
   "source": []
  },
  {
   "cell_type": "code",
   "execution_count": 1,
   "metadata": {},
   "outputs": [
    {
     "name": "stdout",
     "output_type": "stream",
     "text": [
      "10 x 100 = 1000\n",
      "10 x 101 = 1010\n",
      "10 x 102 = 1020\n",
      "10 x 103 = 1030\n",
      "10 x 104 = 1040\n",
      "10 x 105 = 1050\n",
      "10 x 106 = 1060\n",
      "10 x 107 = 1070\n",
      "10 x 108 = 1080\n",
      "10 x 109 = 1090\n",
      "10 x 110 = 1100\n"
     ]
    }
   ],
   "source": [
    "# Function to generate Multiplication table for a given number in given range\n",
    "#10 in the range(100,110)inclusive\n",
    "#10*100=1000\n",
    "#10*101=1010\n",
    "#10*102=1020\n",
    "\n",
    "def table(n):\n",
    "    for i in range(100,111):\n",
    "        print(n,\"x\",i,\"=\",n*i)\n",
    "table(10)"
   ]
  },
  {
   "cell_type": "code",
   "execution_count": 15,
   "metadata": {},
   "outputs": [
    {
     "data": {
      "text/plain": [
       "29"
      ]
     },
     "execution_count": 15,
     "metadata": {},
     "output_type": "execute_result"
    }
   ],
   "source": [
    "\n",
    "def isLeapyear(year):\n",
    "    if(year%400==0 or (year%100!=0 and year%4==0)):\n",
    "        return True\n",
    "    return False\n",
    "def numberOfDaysMonth(month,year):\n",
    "    if month ==2:\n",
    "        if isLeapyear(year):\n",
    "            return 29\n",
    "        return 28\n",
    "    elif (month <=7 and month%2!=0) or (month>=8 and month%2==0):\n",
    "        return 31\n",
    "    else:\n",
    "        return 30\n",
    "numberOfDaysMonth(2,2020)\n",
    "    "
   ]
  },
  {
   "cell_type": "code",
   "execution_count": null,
   "metadata": {},
   "outputs": [],
   "source": []
  },
  {
   "cell_type": "code",
   "execution_count": 21,
   "metadata": {},
   "outputs": [
    {
     "data": {
      "text/plain": [
       "731"
      ]
     },
     "execution_count": 21,
     "metadata": {},
     "output_type": "execute_result"
    }
   ],
   "source": [
    "def numberOfDays(startyear,endyear):\n",
    "    s=0\n",
    "    for year in range(startyear,endyear+1):\n",
    "        if isLeapyear(year):\n",
    "            s+=366\n",
    "        else:\n",
    "            s+=365\n",
    "    return s\n",
    "\n",
    "numberOfDays(2019,2020)"
   ]
  },
  {
   "cell_type": "code",
   "execution_count": null,
   "metadata": {},
   "outputs": [],
   "source": []
  },
  {
   "cell_type": "code",
   "execution_count": 29,
   "metadata": {},
   "outputs": [
    {
     "data": {
      "text/plain": [
       "1464"
      ]
     },
     "execution_count": 29,
     "metadata": {},
     "output_type": "execute_result"
    }
   ],
   "source": [
    "def isLeapyear(year):\n",
    "    if(year%400==0 or (year%100!=0 and year%4==0)):\n",
    "        return True\n",
    "    return False\n",
    "\n",
    "\n",
    "def numberOfDaysMonth(month,year):\n",
    "    if month ==2:\n",
    "        if isLeapyear(year):\n",
    "            return 29\n",
    "        return 28\n",
    "    elif (month <=7 and month%2!=0) or (month>=8 and month%2==0):\n",
    "        return 31\n",
    "    else:\n",
    "        return 30\n",
    "    \n",
    "def daysInStartYear(startmonth,startyear):  \n",
    "    days=0\n",
    "    for month in range(startmonth,13):\n",
    "        days+=numberOfDaysMonth(month,startyear)\n",
    "    return days\n",
    "\n",
    "def daysInEndYear(endmonth,endyear):\n",
    "    days=0\n",
    "    for month in range(1,endmonth+1):\n",
    "        days+=numberOfDaysMonth(month,endyear)\n",
    "    return days\n",
    "def numberOfHours(startmonth,startyear,endmonth,endyear):\n",
    "    days=0\n",
    "    if startyear!=endyear:   \n",
    "        days+=daysInStartYear(startmonth,startyear)\n",
    "        days+=daysInEndYear(endmonth,endyear)\n",
    "        if endyear-startyear==2: # 2019-2017  \n",
    "            days+=numberOfDays(startyear+1,startyear+1)\n",
    "        elif endyear-startyear>2:\n",
    "            days+=numberOfDays(startyear+1,endyear-1)\n",
    "    else:\n",
    "        for month in range(startmonth,endmonth+1):\n",
    "            days+=numberOfDaysMonth(month,startyear)\n",
    "    return 24*days\n",
    "\n",
    "numberOfHours(11,2019,12,2019)"
   ]
  },
  {
   "cell_type": "code",
   "execution_count": null,
   "metadata": {},
   "outputs": [],
   "source": []
  }
 ],
 "metadata": {
  "kernelspec": {
   "display_name": "Python 3",
   "language": "python",
   "name": "python3"
  }
 },
 "nbformat": 4,
 "nbformat_minor": 2
}
