{
 "cells": [
  {
   "cell_type": "markdown",
   "metadata": {},
   "source": [
    "### Markdown Basics \n",
    "\n",
    "* **Bold** \n",
    "* *Italic* \n",
    "* ***IB***\n",
    "* Normal Text\n",
    "  * Sublist 1\n",
    "  * Sublist 2\n",
    "  \n",
    "  \n",
    "> 1. Ordered list element 1\n",
    "> 2. Ordered list element 2\n",
    "\n",
    "  \n",
    "- -[] Option 1\n",
    "- -[] Option 2\n",
    "- -[] Option 3\n",
    "\n",
    "I get 10 times more traffic from [Google] [1] than from\n",
    "[Yahoo] [2] or [MSN] [3].\n",
    "\n",
    "  [1]: http://google.com/        \"Google\"\n",
    "  [2]: http://search.yahoo.com/  \"Yahoo Search\"\n",
    "  [3]: http://search.msn.com/    \"MSN Search\"\n",
    "  \n",
    "  \n",
    "`printf(\"hello\")\n",
    "\n",
    "\n",
    "<http://google.com\n",
    "\n",
    "markdown@gmail.com\n",
    "\n",
    ".[Jupyter Logo](2.png)\n",
    "\n",
    "<img src=\"2.png\" style=\"float:left\" >\n",
    "\n",
    "\n"
   ]
  },
  {
   "cell_type": "code",
   "execution_count": null,
   "metadata": {},
   "outputs": [],
   "source": []
  },
  {
   "cell_type": "markdown",
   "metadata": {},
   "source": [
    "### Python Basics"
   ]
  },
  {
   "cell_type": "markdown",
   "metadata": {},
   "source": [
    "Python version 3.7\n",
    "Scripting\n",
    "Object Oriented\n",
    "Functional"
   ]
  },
  {
   "cell_type": "code",
   "execution_count": 1,
   "metadata": {},
   "outputs": [
    {
     "name": "stdout",
     "output_type": "stream",
     "text": [
      "Good Afternoon !//Hello Python\n"
     ]
    }
   ],
   "source": [
    "# Python Comments\n",
    "\n",
    "print(\"Good Afternoon\",\"!\",end=\"//\") #Basic Output\n",
    "print(\"Hello Python\")"
   ]
  },
  {
   "cell_type": "code",
   "execution_count": null,
   "metadata": {},
   "outputs": [],
   "source": []
  },
  {
   "cell_type": "markdown",
   "metadata": {},
   "source": [
    "### Assignment"
   ]
  },
  {
   "cell_type": "code",
   "execution_count": 2,
   "metadata": {},
   "outputs": [
    {
     "name": "stdout",
     "output_type": "stream",
     "text": [
      "123 245 231\n"
     ]
    }
   ],
   "source": [
    "n1=123456 #Sinlge Variable Assignment\n",
    "\n",
    "n2=n3=n4=n1 # Multi Variable Assignment of the single value\n",
    "\n",
    "a,b,c=123,245,231 # Multi Variable Assignment with different values\n",
    "\n",
    "print(a,b,c)\n"
   ]
  },
  {
   "cell_type": "code",
   "execution_count": null,
   "metadata": {},
   "outputs": [],
   "source": []
  },
  {
   "cell_type": "markdown",
   "metadata": {},
   "source": [
    "### Data Types and Data Conversions\n",
    "- int\n",
    "- float\n",
    "- string"
   ]
  },
  {
   "cell_type": "code",
   "execution_count": 3,
   "metadata": {},
   "outputs": [
    {
     "data": {
      "text/plain": [
       "12.0"
      ]
     },
     "execution_count": 3,
     "metadata": {},
     "output_type": "execute_result"
    }
   ],
   "source": [
    "\n",
    "type(a)\n",
    "s=\"Python\"\n",
    "type(s)\n",
    "\n",
    "f1=12.345\n",
    "type(f1)\n",
    "\n",
    "float(str(int(f1)))"
   ]
  },
  {
   "cell_type": "code",
   "execution_count": null,
   "metadata": {},
   "outputs": [],
   "source": []
  },
  {
   "cell_type": "markdown",
   "metadata": {},
   "source": [
    "### Arthmetic Operations\n",
    "- +\n",
    "- -\n",
    "- *\n",
    "- /\n",
    "- %\n",
    "- **"
   ]
  },
  {
   "cell_type": "code",
   "execution_count": 4,
   "metadata": {},
   "outputs": [
    {
     "data": {
      "text/plain": [
       "str"
      ]
     },
     "execution_count": 4,
     "metadata": {},
     "output_type": "execute_result"
    }
   ],
   "source": [
    "n1%11\n",
    "\n",
    "n3=n2**12\n",
    "\n",
    "type(n3)\n",
    "len(str(n3))\n",
    "\n",
    "atoms=10**82\n",
    "len(str(atoms))\n",
    "type(str(atoms))\n"
   ]
  },
  {
   "cell_type": "code",
   "execution_count": null,
   "metadata": {},
   "outputs": [],
   "source": []
  },
  {
   "cell_type": "markdown",
   "metadata": {},
   "source": [
    "### Condtionals\n",
    "\n"
   ]
  },
  {
   "cell_type": "code",
   "execution_count": 5,
   "metadata": {},
   "outputs": [
    {
     "ename": "SyntaxError",
     "evalue": "invalid syntax (<ipython-input-5-b82de2a099f7>, line 3)",
     "output_type": "error",
     "traceback": [
      "\u001b[1;36m  File \u001b[1;32m\"<ipython-input-5-b82de2a099f7>\"\u001b[1;36m, line \u001b[1;32m3\u001b[0m\n\u001b[1;33m    endif atoms>10**\u001b[0m\n\u001b[1;37m              ^\u001b[0m\n\u001b[1;31mSyntaxError\u001b[0m\u001b[1;31m:\u001b[0m invalid syntax\n"
     ]
    }
   ],
   "source": [
    "if atoms<10**9 :\n",
    "    print (\"TRUE\")\n",
    "endif atoms>10**\n",
    "else:\n",
    "    print(\"FALSE\")\n"
   ]
  },
  {
   "cell_type": "code",
   "execution_count": null,
   "metadata": {},
   "outputs": [],
   "source": [
    "#Check if number is Even or odd\n",
    "\n",
    "n=123\n",
    "if n%2==0:\n",
    "    print(\"Even\")\n",
    "else:\n",
    "    print(\"Odd\")"
   ]
  },
  {
   "cell_type": "code",
   "execution_count": 10,
   "metadata": {},
   "outputs": [
    {
     "name": "stdout",
     "output_type": "stream",
     "text": [
      "Enter the first number-15\n",
      "Enter the second number-56\n",
      "Enter the third number-3\n",
      "-3 is greater\n"
     ]
    }
   ],
   "source": [
    "# find the greatest of 3 numbers\n",
    "\n",
    "n1=int(input(\"Enter the first number\"))\n",
    "n2=int(input(\"Enter the second number\"))\n",
    "n3=int(input(\"Enter the third number\"))\n",
    "if n1>n2 and n1>n3:\n",
    "    print(n1,\" is greatest\")\n",
    "elif n2>n3:\n",
    "    print(n2,\"is greater\")\n",
    "else:\n",
    "    print(n3,\"is greater\")"
   ]
  },
  {
   "cell_type": "code",
   "execution_count": 11,
   "metadata": {},
   "outputs": [
    {
     "name": "stdout",
     "output_type": "stream",
     "text": [
      "Enter a year 2020\n",
      "2020 is leap year\n"
     ]
    }
   ],
   "source": [
    "# Leap year or not\n",
    "\n",
    "n=int(input(\"Enter a year \"))\n",
    "if n%400==0 or (n%100!=0 and n%4==0):\n",
    "    print(n, \"is leap year\")\n",
    "else:\n",
    "    print(n,\"not a leap year\")\n"
   ]
  },
  {
   "cell_type": "code",
   "execution_count": 28,
   "metadata": {},
   "outputs": [
    {
     "name": "stdout",
     "output_type": "stream",
     "text": [
      "Enter a number123\n",
      "Enter a lowerbound range 50\n",
      "Enter a upperbound range 150\n",
      "123 is found\n"
     ]
    }
   ],
   "source": [
    "#check if a number exist in a given range\n",
    "\n",
    "n=int(input(\"Enter a number\"))\n",
    "lb=int(input(\"Enter a lowerbound range \"))\n",
    "ub=int(input(\"Enter a upperbound range \"))\n",
    "\n",
    "if n>= lb and n<=ub:\n",
    "    print(n,\"is found\")\n",
    "else:\n",
    "    print(n,\"is not found\")"
   ]
  },
  {
   "cell_type": "code",
   "execution_count": 17,
   "metadata": {},
   "outputs": [
    {
     "name": "stdout",
     "output_type": "stream",
     "text": [
      "Enter the number 1234\n"
     ]
    },
    {
     "data": {
      "text/plain": [
       "4"
      ]
     },
     "execution_count": 17,
     "metadata": {},
     "output_type": "execute_result"
    }
   ],
   "source": [
    "#calculate number of digits in a number\n",
    "\n",
    "n=int(input(\"Enter the number \"))\n",
    "len(str(n))"
   ]
  },
  {
   "cell_type": "code",
   "execution_count": 24,
   "metadata": {},
   "outputs": [
    {
     "name": "stdout",
     "output_type": "stream",
     "text": [
      "Enter a number30\n",
      "30 is multiple of 10\n"
     ]
    }
   ],
   "source": [
    "# check if a number is multiple of 10\n",
    "\n",
    "n=int(input(\"Enter a number\"))\n",
    "if n%10==0:\n",
    "    print(n,\"is multiple of 10\")\n",
    "else:\n",
    "    print(n,\"is not a multiple of 10\")\n"
   ]
  },
  {
   "cell_type": "code",
   "execution_count": 25,
   "metadata": {},
   "outputs": [
    {
     "name": "stdout",
     "output_type": "stream",
     "text": [
      "Enter a numer10\n",
      "10 it is factor of 1000\n"
     ]
    }
   ],
   "source": [
    "# check if a number is a factor of 1000\n",
    "n=int(input(\"Enter a numer\"))\n",
    "if 1000%n==0:\n",
    "    print(n,\"it is factor of 1000\")\n",
    "else:\n",
    "    print(n,\"not a factor of 1000\")"
   ]
  },
  {
   "cell_type": "code",
   "execution_count": 29,
   "metadata": {},
   "outputs": [
    {
     "name": "stdout",
     "output_type": "stream",
     "text": [
      "12345 is not equal to  123456\n"
     ]
    }
   ],
   "source": [
    "# check if given string is equal to a number\n",
    "s1=\"123456\"\n",
    "n=12345\n",
    "if str(n)==s1:\n",
    "    print(n, \"is equal to \",s1)\n",
    "else:\n",
    "    print(n,\"is not equal to \",s1)"
   ]
  },
  {
   "cell_type": "code",
   "execution_count": 33,
   "metadata": {},
   "outputs": [
    {
     "name": "stdout",
     "output_type": "stream",
     "text": [
      "Enter a numer2\n",
      "squart root of numer  2 is 1.4142135623730951\n"
     ]
    }
   ],
   "source": [
    "# calculate the Square root of a number without functions\n",
    "n=int(input(\"Enter a numer\"))\n",
    "print(\"squart root of numer \",n,\"is\",n**0.5)"
   ]
  },
  {
   "cell_type": "code",
   "execution_count": 34,
   "metadata": {},
   "outputs": [
    {
     "name": "stdout",
     "output_type": "stream",
     "text": [
      "Enter a year 2016\n",
      "31622400000000000\n"
     ]
    }
   ],
   "source": [
    "#calculate the number of nano seconds in a given year(considering leap year logic)\n",
    "n=int(input(\"Enter a year \"))\n",
    "if n%400==0 or (n%100!=0 and n%4==0):\n",
    "    print(366*24*60*60*(10**9))\n",
    "else:\n",
    "    print(365*24*60*60*(10**9))"
   ]
  },
  {
   "cell_type": "code",
   "execution_count": null,
   "metadata": {},
   "outputs": [],
   "source": []
  },
  {
   "cell_type": "code",
   "execution_count": null,
   "metadata": {},
   "outputs": [],
   "source": []
  }
 ],
 "metadata": {
  "kernelspec": {
   "display_name": "Python 3",
   "language": "python",
   "name": "python3"
  },
  "language_info": {
   "codemirror_mode": {
    "name": "ipython",
    "version": 3
   },
   "file_extension": ".py",
   "mimetype": "text/x-python",
   "name": "python",
   "nbconvert_exporter": "python",
   "pygments_lexer": "ipython3",
   "version": "3.7.3"
  }
 },
 "nbformat": 4,
 "nbformat_minor": 2
}
